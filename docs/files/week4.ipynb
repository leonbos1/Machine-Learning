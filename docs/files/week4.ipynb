{
 "cells": [
  {
   "cell_type": "code",
   "execution_count": 53,
   "metadata": {},
   "outputs": [],
   "source": [
    "import pandas as pd\n",
    "import numpy as np\n",
    "import time\n",
    "from sklearn.svm import SVC\n",
    "import matplotlib.pyplot as plt\n",
    "from sklearn.model_selection import GridSearchCV\n",
    "%matplotlib inline"
   ]
  },
  {
   "cell_type": "code",
   "execution_count": 54,
   "metadata": {},
   "outputs": [],
   "source": [
    "TRAIN_FILE_PATH = './archive/train.csv'\n",
    "\n",
    "data = pd.read_csv(TRAIN_FILE_PATH)"
   ]
  },
  {
   "cell_type": "code",
   "execution_count": 55,
   "metadata": {},
   "outputs": [],
   "source": [
    "#Id en Name zijn niet relevant voor het model\n",
    "data = data.drop(['PassengerId', 'Name'], axis=1)"
   ]
  },
  {
   "cell_type": "code",
   "execution_count": 56,
   "metadata": {},
   "outputs": [
    {
     "data": {
      "text/html": [
       "<div>\n",
       "<style scoped>\n",
       "    .dataframe tbody tr th:only-of-type {\n",
       "        vertical-align: middle;\n",
       "    }\n",
       "\n",
       "    .dataframe tbody tr th {\n",
       "        vertical-align: top;\n",
       "    }\n",
       "\n",
       "    .dataframe thead th {\n",
       "        text-align: right;\n",
       "    }\n",
       "</style>\n",
       "<table border=\"1\" class=\"dataframe\">\n",
       "  <thead>\n",
       "    <tr style=\"text-align: right;\">\n",
       "      <th></th>\n",
       "      <th>HomePlanet</th>\n",
       "      <th>CryoSleep</th>\n",
       "      <th>Cabin</th>\n",
       "      <th>Destination</th>\n",
       "      <th>Age</th>\n",
       "      <th>VIP</th>\n",
       "      <th>RoomService</th>\n",
       "      <th>FoodCourt</th>\n",
       "      <th>ShoppingMall</th>\n",
       "      <th>Spa</th>\n",
       "      <th>VRDeck</th>\n",
       "      <th>Transported</th>\n",
       "    </tr>\n",
       "  </thead>\n",
       "  <tbody>\n",
       "    <tr>\n",
       "      <th>0</th>\n",
       "      <td>Europa</td>\n",
       "      <td>False</td>\n",
       "      <td>B/0/P</td>\n",
       "      <td>TRAPPIST-1e</td>\n",
       "      <td>39.0</td>\n",
       "      <td>False</td>\n",
       "      <td>0.0</td>\n",
       "      <td>0.0</td>\n",
       "      <td>0.0</td>\n",
       "      <td>0.0</td>\n",
       "      <td>0.0</td>\n",
       "      <td>False</td>\n",
       "    </tr>\n",
       "    <tr>\n",
       "      <th>1</th>\n",
       "      <td>Earth</td>\n",
       "      <td>False</td>\n",
       "      <td>F/0/S</td>\n",
       "      <td>TRAPPIST-1e</td>\n",
       "      <td>24.0</td>\n",
       "      <td>False</td>\n",
       "      <td>109.0</td>\n",
       "      <td>9.0</td>\n",
       "      <td>25.0</td>\n",
       "      <td>549.0</td>\n",
       "      <td>44.0</td>\n",
       "      <td>True</td>\n",
       "    </tr>\n",
       "    <tr>\n",
       "      <th>2</th>\n",
       "      <td>Europa</td>\n",
       "      <td>False</td>\n",
       "      <td>A/0/S</td>\n",
       "      <td>TRAPPIST-1e</td>\n",
       "      <td>58.0</td>\n",
       "      <td>True</td>\n",
       "      <td>43.0</td>\n",
       "      <td>3576.0</td>\n",
       "      <td>0.0</td>\n",
       "      <td>6715.0</td>\n",
       "      <td>49.0</td>\n",
       "      <td>False</td>\n",
       "    </tr>\n",
       "    <tr>\n",
       "      <th>3</th>\n",
       "      <td>Europa</td>\n",
       "      <td>False</td>\n",
       "      <td>A/0/S</td>\n",
       "      <td>TRAPPIST-1e</td>\n",
       "      <td>33.0</td>\n",
       "      <td>False</td>\n",
       "      <td>0.0</td>\n",
       "      <td>1283.0</td>\n",
       "      <td>371.0</td>\n",
       "      <td>3329.0</td>\n",
       "      <td>193.0</td>\n",
       "      <td>False</td>\n",
       "    </tr>\n",
       "    <tr>\n",
       "      <th>4</th>\n",
       "      <td>Earth</td>\n",
       "      <td>False</td>\n",
       "      <td>F/1/S</td>\n",
       "      <td>TRAPPIST-1e</td>\n",
       "      <td>16.0</td>\n",
       "      <td>False</td>\n",
       "      <td>303.0</td>\n",
       "      <td>70.0</td>\n",
       "      <td>151.0</td>\n",
       "      <td>565.0</td>\n",
       "      <td>2.0</td>\n",
       "      <td>True</td>\n",
       "    </tr>\n",
       "  </tbody>\n",
       "</table>\n",
       "</div>"
      ],
      "text/plain": [
       "  HomePlanet CryoSleep  Cabin  Destination   Age    VIP  RoomService  \\\n",
       "0     Europa     False  B/0/P  TRAPPIST-1e  39.0  False          0.0   \n",
       "1      Earth     False  F/0/S  TRAPPIST-1e  24.0  False        109.0   \n",
       "2     Europa     False  A/0/S  TRAPPIST-1e  58.0   True         43.0   \n",
       "3     Europa     False  A/0/S  TRAPPIST-1e  33.0  False          0.0   \n",
       "4      Earth     False  F/1/S  TRAPPIST-1e  16.0  False        303.0   \n",
       "\n",
       "   FoodCourt  ShoppingMall     Spa  VRDeck  Transported  \n",
       "0        0.0           0.0     0.0     0.0        False  \n",
       "1        9.0          25.0   549.0    44.0         True  \n",
       "2     3576.0           0.0  6715.0    49.0        False  \n",
       "3     1283.0         371.0  3329.0   193.0        False  \n",
       "4       70.0         151.0   565.0     2.0         True  "
      ]
     },
     "execution_count": 56,
     "metadata": {},
     "output_type": "execute_result"
    }
   ],
   "source": [
    "data.head()"
   ]
  },
  {
   "cell_type": "code",
   "execution_count": 57,
   "metadata": {},
   "outputs": [
    {
     "name": "stdout",
     "output_type": "stream",
     "text": [
      "Transported\n",
      "False    29.922858\n",
      "True     27.748834\n",
      "Name: Age, dtype: float64\n",
      "Transported\n",
      "False    0.029175\n",
      "True     0.017782\n",
      "Name: VIP, dtype: float64\n",
      "Destination\n",
      "55 Cancri e      0.610000\n",
      "PSO J318.5-22    0.503769\n",
      "TRAPPIST-1e      0.471175\n",
      "Name: Transported, dtype: float64\n"
     ]
    }
   ],
   "source": [
    "#print gemiddelde age van wel en niet getransporteerde mensen\n",
    "print(data.groupby('Transported')['Age'].mean())\n",
    "#Percentage vips per \n",
    "print(data.groupby('Transported')['VIP'].mean())\n",
    "#Percentage van de mensen die getransporteerd zijn per destination\n",
    "print(data.groupby('Destination')['Transported'].mean())"
   ]
  },
  {
   "cell_type": "code",
   "execution_count": 58,
   "metadata": {},
   "outputs": [],
   "source": [
    "data = data.sample(frac=1)\n",
    "train_data = data[:int(len(data)*0.8)]\n",
    "test_data = data[int(len(data)*0.8):]\n",
    "\n",
    "train_x = train_data.drop(['Transported'], axis=1)\n",
    "train_y = train_data['Transported']\n",
    "\n",
    "test_x = test_data.drop(['Transported'], axis=1)\n",
    "test_y = test_data['Transported']\n",
    "\n",
    "#encode the data using sklearn.preprocessing.LabelEncoder\n",
    "from sklearn.preprocessing import LabelEncoder\n",
    "\n",
    "le = LabelEncoder()\n",
    "train_x = train_x.apply(le.fit_transform)\n",
    "test_x = test_x.apply(le.fit_transform)"
   ]
  },
  {
   "cell_type": "code",
   "execution_count": 59,
   "metadata": {},
   "outputs": [
    {
     "name": "stdout",
     "output_type": "stream",
     "text": [
      "Fitting 15 folds for each of 36 candidates, totalling 540 fits\n",
      "Training time: 314.2259027957916s\n"
     ]
    }
   ],
   "source": [
    "param_grid = {'C': [0.1, 1, 10, 100],\n",
    "                'degree': [0, 3, 6],\n",
    "                'kernel':['poly', 'rbf', 'sigmoid']}\n",
    "\n",
    "iterations = 15\n",
    "\n",
    "grid = GridSearchCV(SVC(), param_grid, refit=True, cv=iterations, verbose=3, n_jobs=-1)\n",
    "\n",
    "start = time.time()\n",
    "\n",
    "grid.fit(train_x, train_y)\n",
    "\n",
    "end = time.time()\n",
    "\n",
    "print(f\"Training time: {end - start}s\")"
   ]
  },
  {
   "cell_type": "code",
   "execution_count": 60,
   "metadata": {},
   "outputs": [],
   "source": [
    "best_score = grid.best_score_\n",
    "best_params = grid.best_params_\n",
    "\n",
    "with open('result.txt', 'a') as f:\n",
    "    f.write(f\"GridSearch icm SVC\\n\")\n",
    "    f.write(f\"Iterations: {iterations}\\n\")\n",
    "    f.write(f\"Best score: {best_score}\\n\")\n",
    "    f.write(f\"Best params: {best_params}\\n\")\n",
    "    f.write(f\"Training time: {end - start}s\\n\\n\")"
   ]
  },
  {
   "cell_type": "code",
   "execution_count": 61,
   "metadata": {},
   "outputs": [
    {
     "data": {
      "text/html": [
       "<div>\n",
       "<style scoped>\n",
       "    .dataframe tbody tr th:only-of-type {\n",
       "        vertical-align: middle;\n",
       "    }\n",
       "\n",
       "    .dataframe tbody tr th {\n",
       "        vertical-align: top;\n",
       "    }\n",
       "\n",
       "    .dataframe thead th {\n",
       "        text-align: right;\n",
       "    }\n",
       "</style>\n",
       "<table border=\"1\" class=\"dataframe\">\n",
       "  <thead>\n",
       "    <tr style=\"text-align: right;\">\n",
       "      <th></th>\n",
       "      <th>mean_fit_time</th>\n",
       "      <th>std_fit_time</th>\n",
       "      <th>mean_score_time</th>\n",
       "      <th>std_score_time</th>\n",
       "      <th>param_C</th>\n",
       "      <th>param_degree</th>\n",
       "      <th>param_kernel</th>\n",
       "      <th>params</th>\n",
       "      <th>split0_test_score</th>\n",
       "      <th>split1_test_score</th>\n",
       "      <th>...</th>\n",
       "      <th>split8_test_score</th>\n",
       "      <th>split9_test_score</th>\n",
       "      <th>split10_test_score</th>\n",
       "      <th>split11_test_score</th>\n",
       "      <th>split12_test_score</th>\n",
       "      <th>split13_test_score</th>\n",
       "      <th>split14_test_score</th>\n",
       "      <th>mean_test_score</th>\n",
       "      <th>std_test_score</th>\n",
       "      <th>rank_test_score</th>\n",
       "    </tr>\n",
       "  </thead>\n",
       "  <tbody>\n",
       "    <tr>\n",
       "      <th>28</th>\n",
       "      <td>2.689187</td>\n",
       "      <td>0.189785</td>\n",
       "      <td>0.156909</td>\n",
       "      <td>0.014455</td>\n",
       "      <td>100</td>\n",
       "      <td>0</td>\n",
       "      <td>rbf</td>\n",
       "      <td>{'C': 100, 'degree': 0, 'kernel': 'rbf'}</td>\n",
       "      <td>0.760776</td>\n",
       "      <td>0.788793</td>\n",
       "      <td>...</td>\n",
       "      <td>0.786638</td>\n",
       "      <td>0.786177</td>\n",
       "      <td>0.74946</td>\n",
       "      <td>0.781857</td>\n",
       "      <td>0.762419</td>\n",
       "      <td>0.801296</td>\n",
       "      <td>0.779698</td>\n",
       "      <td>0.780411</td>\n",
       "      <td>0.022051</td>\n",
       "      <td>1</td>\n",
       "    </tr>\n",
       "    <tr>\n",
       "      <th>34</th>\n",
       "      <td>2.423749</td>\n",
       "      <td>0.144716</td>\n",
       "      <td>0.154837</td>\n",
       "      <td>0.005697</td>\n",
       "      <td>100</td>\n",
       "      <td>6</td>\n",
       "      <td>rbf</td>\n",
       "      <td>{'C': 100, 'degree': 6, 'kernel': 'rbf'}</td>\n",
       "      <td>0.760776</td>\n",
       "      <td>0.788793</td>\n",
       "      <td>...</td>\n",
       "      <td>0.786638</td>\n",
       "      <td>0.786177</td>\n",
       "      <td>0.74946</td>\n",
       "      <td>0.781857</td>\n",
       "      <td>0.762419</td>\n",
       "      <td>0.801296</td>\n",
       "      <td>0.779698</td>\n",
       "      <td>0.780411</td>\n",
       "      <td>0.022051</td>\n",
       "      <td>1</td>\n",
       "    </tr>\n",
       "    <tr>\n",
       "      <th>31</th>\n",
       "      <td>2.434959</td>\n",
       "      <td>0.120661</td>\n",
       "      <td>0.149590</td>\n",
       "      <td>0.007949</td>\n",
       "      <td>100</td>\n",
       "      <td>3</td>\n",
       "      <td>rbf</td>\n",
       "      <td>{'C': 100, 'degree': 3, 'kernel': 'rbf'}</td>\n",
       "      <td>0.760776</td>\n",
       "      <td>0.788793</td>\n",
       "      <td>...</td>\n",
       "      <td>0.786638</td>\n",
       "      <td>0.786177</td>\n",
       "      <td>0.74946</td>\n",
       "      <td>0.781857</td>\n",
       "      <td>0.762419</td>\n",
       "      <td>0.801296</td>\n",
       "      <td>0.779698</td>\n",
       "      <td>0.780411</td>\n",
       "      <td>0.022051</td>\n",
       "      <td>1</td>\n",
       "    </tr>\n",
       "    <tr>\n",
       "      <th>19</th>\n",
       "      <td>1.877729</td>\n",
       "      <td>0.155785</td>\n",
       "      <td>0.168635</td>\n",
       "      <td>0.013603</td>\n",
       "      <td>10</td>\n",
       "      <td>0</td>\n",
       "      <td>rbf</td>\n",
       "      <td>{'C': 10, 'degree': 0, 'kernel': 'rbf'}</td>\n",
       "      <td>0.756466</td>\n",
       "      <td>0.782328</td>\n",
       "      <td>...</td>\n",
       "      <td>0.784483</td>\n",
       "      <td>0.786177</td>\n",
       "      <td>0.74730</td>\n",
       "      <td>0.768898</td>\n",
       "      <td>0.764579</td>\n",
       "      <td>0.796976</td>\n",
       "      <td>0.762419</td>\n",
       "      <td>0.774946</td>\n",
       "      <td>0.021303</td>\n",
       "      <td>4</td>\n",
       "    </tr>\n",
       "    <tr>\n",
       "      <th>25</th>\n",
       "      <td>1.717003</td>\n",
       "      <td>0.069713</td>\n",
       "      <td>0.164076</td>\n",
       "      <td>0.011473</td>\n",
       "      <td>10</td>\n",
       "      <td>6</td>\n",
       "      <td>rbf</td>\n",
       "      <td>{'C': 10, 'degree': 6, 'kernel': 'rbf'}</td>\n",
       "      <td>0.756466</td>\n",
       "      <td>0.782328</td>\n",
       "      <td>...</td>\n",
       "      <td>0.784483</td>\n",
       "      <td>0.786177</td>\n",
       "      <td>0.74730</td>\n",
       "      <td>0.768898</td>\n",
       "      <td>0.764579</td>\n",
       "      <td>0.796976</td>\n",
       "      <td>0.762419</td>\n",
       "      <td>0.774946</td>\n",
       "      <td>0.021303</td>\n",
       "      <td>4</td>\n",
       "    </tr>\n",
       "  </tbody>\n",
       "</table>\n",
       "<p>5 rows × 26 columns</p>\n",
       "</div>"
      ],
      "text/plain": [
       "    mean_fit_time  std_fit_time  mean_score_time  std_score_time param_C  \\\n",
       "28       2.689187      0.189785         0.156909        0.014455     100   \n",
       "34       2.423749      0.144716         0.154837        0.005697     100   \n",
       "31       2.434959      0.120661         0.149590        0.007949     100   \n",
       "19       1.877729      0.155785         0.168635        0.013603      10   \n",
       "25       1.717003      0.069713         0.164076        0.011473      10   \n",
       "\n",
       "   param_degree param_kernel                                    params  \\\n",
       "28            0          rbf  {'C': 100, 'degree': 0, 'kernel': 'rbf'}   \n",
       "34            6          rbf  {'C': 100, 'degree': 6, 'kernel': 'rbf'}   \n",
       "31            3          rbf  {'C': 100, 'degree': 3, 'kernel': 'rbf'}   \n",
       "19            0          rbf   {'C': 10, 'degree': 0, 'kernel': 'rbf'}   \n",
       "25            6          rbf   {'C': 10, 'degree': 6, 'kernel': 'rbf'}   \n",
       "\n",
       "    split0_test_score  split1_test_score  ...  split8_test_score  \\\n",
       "28           0.760776           0.788793  ...           0.786638   \n",
       "34           0.760776           0.788793  ...           0.786638   \n",
       "31           0.760776           0.788793  ...           0.786638   \n",
       "19           0.756466           0.782328  ...           0.784483   \n",
       "25           0.756466           0.782328  ...           0.784483   \n",
       "\n",
       "    split9_test_score  split10_test_score  split11_test_score  \\\n",
       "28           0.786177             0.74946            0.781857   \n",
       "34           0.786177             0.74946            0.781857   \n",
       "31           0.786177             0.74946            0.781857   \n",
       "19           0.786177             0.74730            0.768898   \n",
       "25           0.786177             0.74730            0.768898   \n",
       "\n",
       "    split12_test_score  split13_test_score  split14_test_score  \\\n",
       "28            0.762419            0.801296            0.779698   \n",
       "34            0.762419            0.801296            0.779698   \n",
       "31            0.762419            0.801296            0.779698   \n",
       "19            0.764579            0.796976            0.762419   \n",
       "25            0.764579            0.796976            0.762419   \n",
       "\n",
       "    mean_test_score  std_test_score  rank_test_score  \n",
       "28         0.780411        0.022051                1  \n",
       "34         0.780411        0.022051                1  \n",
       "31         0.780411        0.022051                1  \n",
       "19         0.774946        0.021303                4  \n",
       "25         0.774946        0.021303                4  \n",
       "\n",
       "[5 rows x 26 columns]"
      ]
     },
     "execution_count": 61,
     "metadata": {},
     "output_type": "execute_result"
    }
   ],
   "source": [
    "gs_results = pd.DataFrame(grid.cv_results_)\n",
    "gs_results.sort_values(by='mean_test_score', ascending=False, inplace=True)\n",
    "gs_results.head()"
   ]
  },
  {
   "cell_type": "code",
   "execution_count": 62,
   "metadata": {},
   "outputs": [
    {
     "data": {
      "text/plain": [
       "<sklearn.metrics._plot.confusion_matrix.ConfusionMatrixDisplay at 0x1aaa0f44ed0>"
      ]
     },
     "execution_count": 62,
     "metadata": {},
     "output_type": "execute_result"
    },
    {
     "data": {
      "image/png": "[encoded data removed]",
      "text/plain": [
       "<Figure size 640x480 with 2 Axes>"
      ]
     },
     "metadata": {},
     "output_type": "display_data"
    }
   ],
   "source": [
    "from sklearn.metrics import ConfusionMatrixDisplay\n",
    "\n",
    "ConfusionMatrixDisplay.from_estimator(grid.best_estimator_, test_x, test_y)"
   ]
  },
  {
   "cell_type": "code",
   "execution_count": 63,
   "metadata": {},
   "outputs": [
    {
     "name": "stdout",
     "output_type": "stream",
     "text": [
      "Fitting 15 folds for each of 36 candidates, totalling 540 fits\n"
     ]
    },
    {
     "name": "stderr",
     "output_type": "stream",
     "text": [
      "c:\\Users\\ktmle\\AppData\\Local\\Programs\\Python\\Python311\\Lib\\site-packages\\sklearn\\ensemble\\_forest.py:424: FutureWarning: `max_features='auto'` has been deprecated in 1.1 and will be removed in 1.3. To keep the past behaviour, explicitly set `max_features='sqrt'` or remove this parameter as it is also the default value for RandomForestClassifiers and ExtraTreesClassifiers.\n",
      "  warn(\n"
     ]
    },
    {
     "name": "stdout",
     "output_type": "stream",
     "text": [
      "Training time: 84.32449388504028s\n"
     ]
    }
   ],
   "source": [
    "#using random forest\n",
    "from sklearn.ensemble import RandomForestClassifier\n",
    "\n",
    "param_grid = {'n_estimators': [10, 100, 1000],\n",
    "              'max_depth': [None, 10, 100, 1000],\n",
    "                'max_features': ['auto', 'sqrt', 'log2']}\n",
    "\n",
    "grid = GridSearchCV(RandomForestClassifier(), param_grid, refit=True, cv=iterations, verbose=3, n_jobs=-1)\n",
    "\n",
    "start = time.time()\n",
    "grid.fit(train_x, train_y)\n",
    "end = time.time()\n",
    "\n",
    "print(f\"Training time: {end - start}s\")"
   ]
  },
  {
   "cell_type": "code",
   "execution_count": 64,
   "metadata": {},
   "outputs": [
    {
     "name": "stdout",
     "output_type": "stream",
     "text": [
      "Best score: 0.800975956406246\n"
     ]
    }
   ],
   "source": [
    "best_score = grid.best_score_\n",
    "best_params = grid.best_params_\n",
    "\n",
    "print(f\"Best score: {best_score}\")"
   ]
  },
  {
   "cell_type": "code",
   "execution_count": 65,
   "metadata": {},
   "outputs": [],
   "source": [
    "with open('result.txt', 'a') as f:\n",
    "    f.write(f\"GridSearch icm RandomForestClassifier\\n\")\n",
    "    f.write(f\"Iterations: {iterations}\\n\")\n",
    "    f.write(f\"Best score: {best_score}\\n\")\n",
    "    f.write(f\"Best params: {best_params}\\n\")\n",
    "    f.write(f\"Training time: {end - start}s\\n\\n\")"
   ]
  },
  {
   "cell_type": "code",
   "execution_count": 66,
   "metadata": {},
   "outputs": [
    {
     "data": {
      "text/plain": [
       "<sklearn.metrics._plot.confusion_matrix.ConfusionMatrixDisplay at 0x1aaab4a0810>"
      ]
     },
     "execution_count": 66,
     "metadata": {},
     "output_type": "execute_result"
    },
    {
     "data": {
      "image/png": "[encoded data removed]",
      "text/plain": [
       "<Figure size 640x480 with 2 Axes>"
      ]
     },
     "metadata": {},
     "output_type": "display_data"
    }
   ],
   "source": [
    "gs_results = pd.DataFrame(grid.cv_results_)\n",
    "gs_results.sort_values(by='mean_test_score', ascending=False, inplace=True)\n",
    "gs_results.head()\n",
    "\n",
    "ConfusionMatrixDisplay.from_estimator(grid.best_estimator_, test_x, test_y)"
   ]
  },
  {
   "cell_type": "code",
   "execution_count": 67,
   "metadata": {},
   "outputs": [
    {
     "name": "stdout",
     "output_type": "stream",
     "text": [
      "Fitting 15 folds for each of 10 candidates, totalling 150 fits\n"
     ]
    },
    {
     "name": "stderr",
     "output_type": "stream",
     "text": [
      "c:\\Users\\ktmle\\AppData\\Local\\Programs\\Python\\Python311\\Lib\\site-packages\\sklearn\\ensemble\\_forest.py:424: FutureWarning: `max_features='auto'` has been deprecated in 1.1 and will be removed in 1.3. To keep the past behaviour, explicitly set `max_features='sqrt'` or remove this parameter as it is also the default value for RandomForestClassifiers and ExtraTreesClassifiers.\n",
      "  warn(\n"
     ]
    },
    {
     "name": "stdout",
     "output_type": "stream",
     "text": [
      "Training time: 48.49923610687256s\n",
      "Best score: 0.7976682555050769\n"
     ]
    },
    {
     "data": {
      "text/plain": [
       "<sklearn.metrics._plot.confusion_matrix.ConfusionMatrixDisplay at 0x1aaa1769a50>"
      ]
     },
     "execution_count": 67,
     "metadata": {},
     "output_type": "execute_result"
    },
    {
     "data": {
      "image/png": "[encoded data removed]",
      "text/plain": [
       "<Figure size 640x480 with 2 Axes>"
      ]
     },
     "metadata": {},
     "output_type": "display_data"
    }
   ],
   "source": [
    "#RandomSearchCV icm RandomForest\n",
    "from sklearn.model_selection import RandomizedSearchCV\n",
    "\n",
    "param_grid = {'n_estimators': [10, 100, 1000],\n",
    "                'max_depth': [None, 10, 100, 1000],\n",
    "                    'max_features': ['auto', 'sqrt', 'log2']}\n",
    "\n",
    "grid = RandomizedSearchCV(RandomForestClassifier(), param_grid, refit=True, cv=iterations, verbose=3, n_jobs=-1)\n",
    "\n",
    "start = time.time()\n",
    "grid.fit(train_x, train_y)\n",
    "end = time.time()\n",
    "\n",
    "print(f\"Training time: {end - start}s\")\n",
    "\n",
    "best_score = grid.best_score_\n",
    "best_params = grid.best_params_\n",
    "\n",
    "print(f\"Best score: {best_score}\")\n",
    "\n",
    "with open('result.txt', 'a') as f:\n",
    "    f.write(f\"RandomizedSearchCV icm RandomForest\\n\")\n",
    "    f.write(f\"Iterations: {iterations}\\n\")\n",
    "    f.write(f\"Best score: {best_score}\\n\")\n",
    "    f.write(f\"Best params: {best_params}\\n\")\n",
    "    f.write(f\"Training time: {end - start}s\\n\\n\")\n",
    "\n",
    "gs_results = pd.DataFrame(grid.cv_results_)\n",
    "gs_results.sort_values(by='mean_test_score', ascending=False, inplace=True)\n",
    "gs_results.head()\n",
    "\n",
    "ConfusionMatrixDisplay.from_estimator(grid.best_estimator_, test_x, test_y)"
   ]
  },
  {
   "cell_type": "code",
   "execution_count": 68,
   "metadata": {},
   "outputs": [
    {
     "name": "stdout",
     "output_type": "stream",
     "text": [
      "Fitting 15 folds for each of 10 candidates, totalling 150 fits\n",
      "Training time: 299.9586191177368s\n",
      "Best score: 0.6045424641890718\n"
     ]
    },
    {
     "data": {
      "text/plain": [
       "<sklearn.metrics._plot.confusion_matrix.ConfusionMatrixDisplay at 0x1aaab2baf10>"
      ]
     },
     "execution_count": 68,
     "metadata": {},
     "output_type": "execute_result"
    },
    {
     "data": {
      "image/png": "[encoded data removed]",
      "text/plain": [
       "<Figure size 640x480 with 2 Axes>"
      ]
     },
     "metadata": {},
     "output_type": "display_data"
    }
   ],
   "source": [
    "param_grid = {'C': [0.1, 1, 10, 100],\n",
    "                'degree': [0, 3, 6],\n",
    "                'kernel':['poly', 'rbf', 'sigmoid']}\n",
    "\n",
    "grid = RandomizedSearchCV(SVC(), param_grid, refit=True, cv=iterations, verbose=3, n_jobs=-1)\n",
    "\n",
    "start = time.time()\n",
    "grid.fit(train_x, train_y)\n",
    "end = time.time()\n",
    "\n",
    "print(f\"Training time: {end - start}s\")\n",
    "\n",
    "best_score = grid.best_score_\n",
    "best_params = grid.best_params_\n",
    "\n",
    "print(f\"Best score: {best_score}\")\n",
    "\n",
    "with open('result.txt', 'a') as f:\n",
    "    f.write(f\"RandomizedSearchCV icm SVC\\n\")\n",
    "    f.write(f\"Iterations: {iterations}\\n\")\n",
    "    f.write(f\"Best score: {best_score}\\n\")\n",
    "    f.write(f\"Best params: {best_params}\\n\")\n",
    "    f.write(f\"Training time: {end - start}s\\n\\n\")\n",
    "\n",
    "gs_results = pd.DataFrame(grid.cv_results_)\n",
    "gs_results.sort_values(by='mean_test_score', ascending=False, inplace=True)\n",
    "gs_results.head()\n",
    "\n",
    "ConfusionMatrixDisplay.from_estimator(grid.best_estimator_, test_x, test_y)"
   ]
  }
 ],
 "metadata": {
  "kernelspec": {
   "display_name": "base",
   "language": "python",
   "name": "python3"
  },
  "language_info": {
   "codemirror_mode": {
    "name": "ipython",
    "version": 3
   },
   "file_extension": ".py",
   "mimetype": "text/x-python",
   "name": "python",
   "nbconvert_exporter": "python",
   "pygments_lexer": "ipython3",
   "version": "3.11.3"
  }
 },
 "nbformat": 4,
 "nbformat_minor": 2
}
