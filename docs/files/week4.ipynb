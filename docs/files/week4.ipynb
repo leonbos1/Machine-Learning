{
 "cells": [
  {
   "cell_type": "code",
   "execution_count": 70,
   "metadata": {},
   "outputs": [],
   "source": [
    "import pandas as pd\n",
    "import numpy as np\n",
    "import time\n",
    "from sklearn.svm import SVC\n",
    "import matplotlib.pyplot as plt\n",
    "from sklearn.model_selection import GridSearchCV\n",
    "%matplotlib inline"
   ]
  },
  {
   "cell_type": "code",
   "execution_count": 71,
   "metadata": {},
   "outputs": [],
   "source": [
    "TRAIN_FILE_PATH = './archive/train.csv'\n",
    "\n",
    "data = pd.read_csv(TRAIN_FILE_PATH)"
   ]
  },
  {
   "cell_type": "code",
   "execution_count": 72,
   "metadata": {},
   "outputs": [],
   "source": [
    "iterations = 10"
   ]
  },
  {
   "cell_type": "code",
   "execution_count": 73,
   "metadata": {},
   "outputs": [],
   "source": [
    "#Id en Name zijn niet relevant voor het model\n",
    "data = data.drop(['PassengerId', 'Name'], axis=1)"
   ]
  },
  {
   "cell_type": "code",
   "execution_count": 74,
   "metadata": {},
   "outputs": [
    {
     "data": {
      "text/html": [
       "<div>\n",
       "<style scoped>\n",
       "    .dataframe tbody tr th:only-of-type {\n",
       "        vertical-align: middle;\n",
       "    }\n",
       "\n",
       "    .dataframe tbody tr th {\n",
       "        vertical-align: top;\n",
       "    }\n",
       "\n",
       "    .dataframe thead th {\n",
       "        text-align: right;\n",
       "    }\n",
       "</style>\n",
       "<table border=\"1\" class=\"dataframe\">\n",
       "  <thead>\n",
       "    <tr style=\"text-align: right;\">\n",
       "      <th></th>\n",
       "      <th>HomePlanet</th>\n",
       "      <th>CryoSleep</th>\n",
       "      <th>Cabin</th>\n",
       "      <th>Destination</th>\n",
       "      <th>Age</th>\n",
       "      <th>VIP</th>\n",
       "      <th>RoomService</th>\n",
       "      <th>FoodCourt</th>\n",
       "      <th>ShoppingMall</th>\n",
       "      <th>Spa</th>\n",
       "      <th>VRDeck</th>\n",
       "      <th>Transported</th>\n",
       "    </tr>\n",
       "  </thead>\n",
       "  <tbody>\n",
       "    <tr>\n",
       "      <th>0</th>\n",
       "      <td>Europa</td>\n",
       "      <td>False</td>\n",
       "      <td>B/0/P</td>\n",
       "      <td>TRAPPIST-1e</td>\n",
       "      <td>39.0</td>\n",
       "      <td>False</td>\n",
       "      <td>0.0</td>\n",
       "      <td>0.0</td>\n",
       "      <td>0.0</td>\n",
       "      <td>0.0</td>\n",
       "      <td>0.0</td>\n",
       "      <td>False</td>\n",
       "    </tr>\n",
       "    <tr>\n",
       "      <th>1</th>\n",
       "      <td>Earth</td>\n",
       "      <td>False</td>\n",
       "      <td>F/0/S</td>\n",
       "      <td>TRAPPIST-1e</td>\n",
       "      <td>24.0</td>\n",
       "      <td>False</td>\n",
       "      <td>109.0</td>\n",
       "      <td>9.0</td>\n",
       "      <td>25.0</td>\n",
       "      <td>549.0</td>\n",
       "      <td>44.0</td>\n",
       "      <td>True</td>\n",
       "    </tr>\n",
       "    <tr>\n",
       "      <th>2</th>\n",
       "      <td>Europa</td>\n",
       "      <td>False</td>\n",
       "      <td>A/0/S</td>\n",
       "      <td>TRAPPIST-1e</td>\n",
       "      <td>58.0</td>\n",
       "      <td>True</td>\n",
       "      <td>43.0</td>\n",
       "      <td>3576.0</td>\n",
       "      <td>0.0</td>\n",
       "      <td>6715.0</td>\n",
       "      <td>49.0</td>\n",
       "      <td>False</td>\n",
       "    </tr>\n",
       "    <tr>\n",
       "      <th>3</th>\n",
       "      <td>Europa</td>\n",
       "      <td>False</td>\n",
       "      <td>A/0/S</td>\n",
       "      <td>TRAPPIST-1e</td>\n",
       "      <td>33.0</td>\n",
       "      <td>False</td>\n",
       "      <td>0.0</td>\n",
       "      <td>1283.0</td>\n",
       "      <td>371.0</td>\n",
       "      <td>3329.0</td>\n",
       "      <td>193.0</td>\n",
       "      <td>False</td>\n",
       "    </tr>\n",
       "    <tr>\n",
       "      <th>4</th>\n",
       "      <td>Earth</td>\n",
       "      <td>False</td>\n",
       "      <td>F/1/S</td>\n",
       "      <td>TRAPPIST-1e</td>\n",
       "      <td>16.0</td>\n",
       "      <td>False</td>\n",
       "      <td>303.0</td>\n",
       "      <td>70.0</td>\n",
       "      <td>151.0</td>\n",
       "      <td>565.0</td>\n",
       "      <td>2.0</td>\n",
       "      <td>True</td>\n",
       "    </tr>\n",
       "  </tbody>\n",
       "</table>\n",
       "</div>"
      ],
      "text/plain": [
       "  HomePlanet CryoSleep  Cabin  Destination   Age    VIP  RoomService  \\\n",
       "0     Europa     False  B/0/P  TRAPPIST-1e  39.0  False          0.0   \n",
       "1      Earth     False  F/0/S  TRAPPIST-1e  24.0  False        109.0   \n",
       "2     Europa     False  A/0/S  TRAPPIST-1e  58.0   True         43.0   \n",
       "3     Europa     False  A/0/S  TRAPPIST-1e  33.0  False          0.0   \n",
       "4      Earth     False  F/1/S  TRAPPIST-1e  16.0  False        303.0   \n",
       "\n",
       "   FoodCourt  ShoppingMall     Spa  VRDeck  Transported  \n",
       "0        0.0           0.0     0.0     0.0        False  \n",
       "1        9.0          25.0   549.0    44.0         True  \n",
       "2     3576.0           0.0  6715.0    49.0        False  \n",
       "3     1283.0         371.0  3329.0   193.0        False  \n",
       "4       70.0         151.0   565.0     2.0         True  "
      ]
     },
     "execution_count": 74,
     "metadata": {},
     "output_type": "execute_result"
    }
   ],
   "source": [
    "data.head()"
   ]
  },
  {
   "cell_type": "code",
   "execution_count": 75,
   "metadata": {},
   "outputs": [
    {
     "name": "stdout",
     "output_type": "stream",
     "text": [
      "Transported\n",
      "False    29.922858\n",
      "True     27.748834\n",
      "Name: Age, dtype: float64\n",
      "Transported\n",
      "False    0.029175\n",
      "True     0.017782\n",
      "Name: VIP, dtype: float64\n",
      "Destination\n",
      "55 Cancri e      0.610000\n",
      "PSO J318.5-22    0.503769\n",
      "TRAPPIST-1e      0.471175\n",
      "Name: Transported, dtype: float64\n"
     ]
    }
   ],
   "source": [
    "#print gemiddelde age van wel en niet getransporteerde mensen\n",
    "print(data.groupby('Transported')['Age'].mean())\n",
    "#Percentage vips per \n",
    "print(data.groupby('Transported')['VIP'].mean())\n",
    "#Percentage van de mensen die getransporteerd zijn per destination\n",
    "print(data.groupby('Destination')['Transported'].mean())"
   ]
  },
  {
   "cell_type": "code",
   "execution_count": 76,
   "metadata": {},
   "outputs": [],
   "source": [
    "data = data.sample(frac=1)\n",
    "train_data = data[:int(len(data)*0.8)]\n",
    "test_data = data[int(len(data)*0.8):]\n",
    "\n",
    "train_x = train_data.drop(['Transported'], axis=1)\n",
    "train_y = train_data['Transported']\n",
    "\n",
    "test_x = test_data.drop(['Transported'], axis=1)\n",
    "test_y = test_data['Transported']\n",
    "\n",
    "#encode the data using sklearn.preprocessing.LabelEncoder\n",
    "from sklearn.preprocessing import LabelEncoder\n",
    "\n",
    "le = LabelEncoder()\n",
    "train_x = train_x.apply(le.fit_transform)\n",
    "test_x = test_x.apply(le.fit_transform)"
   ]
  },
  {
   "cell_type": "code",
   "execution_count": 77,
   "metadata": {},
   "outputs": [
    {
     "name": "stdout",
     "output_type": "stream",
     "text": [
      "Fitting 5 folds for each of 36 candidates, totalling 180 fits\n",
      "Training time: 121.31409549713135s\n"
     ]
    }
   ],
   "source": [
    "param_grid = {'C': [0.1, 1, 10, 100],\n",
    "                'degree': [0, 3, 6],\n",
    "                'kernel':['poly', 'rbf', 'sigmoid']}\n",
    "\n",
    "grid = GridSearchCV(SVC(), param_grid, refit=True, verbose=3, n_jobs=-1)\n",
    "\n",
    "start = time.time()\n",
    "\n",
    "grid.fit(train_x, train_y)\n",
    "\n",
    "end = time.time()\n",
    "\n",
    "print(f\"Training time: {end - start}s\")"
   ]
  },
  {
   "cell_type": "code",
   "execution_count": 78,
   "metadata": {},
   "outputs": [],
   "source": [
    "best_score = grid.best_score_\n",
    "best_params = grid.best_params_\n",
    "\n",
    "with open('result.txt', 'a') as f:\n",
    "    f.write(f\"GridSearch icm SVC\\n\")\n",
    "    f.write(f\"Iterations: {iterations}\\n\")\n",
    "    f.write(f\"Best score: {best_score}\\n\")\n",
    "    f.write(f\"Best params: {best_params}\\n\")\n",
    "    f.write(f\"Training time: {end - start}s\\n\\n\")"
   ]
  },
  {
   "cell_type": "code",
   "execution_count": 79,
   "metadata": {},
   "outputs": [
    {
     "data": {
      "text/html": [
       "<div>\n",
       "<style scoped>\n",
       "    .dataframe tbody tr th:only-of-type {\n",
       "        vertical-align: middle;\n",
       "    }\n",
       "\n",
       "    .dataframe tbody tr th {\n",
       "        vertical-align: top;\n",
       "    }\n",
       "\n",
       "    .dataframe thead th {\n",
       "        text-align: right;\n",
       "    }\n",
       "</style>\n",
       "<table border=\"1\" class=\"dataframe\">\n",
       "  <thead>\n",
       "    <tr style=\"text-align: right;\">\n",
       "      <th></th>\n",
       "      <th>mean_fit_time</th>\n",
       "      <th>std_fit_time</th>\n",
       "      <th>mean_score_time</th>\n",
       "      <th>std_score_time</th>\n",
       "      <th>param_C</th>\n",
       "      <th>param_degree</th>\n",
       "      <th>param_kernel</th>\n",
       "      <th>params</th>\n",
       "      <th>split0_test_score</th>\n",
       "      <th>split1_test_score</th>\n",
       "      <th>split2_test_score</th>\n",
       "      <th>split3_test_score</th>\n",
       "      <th>split4_test_score</th>\n",
       "      <th>mean_test_score</th>\n",
       "      <th>std_test_score</th>\n",
       "      <th>rank_test_score</th>\n",
       "    </tr>\n",
       "  </thead>\n",
       "  <tbody>\n",
       "    <tr>\n",
       "      <th>31</th>\n",
       "      <td>1.951129</td>\n",
       "      <td>0.287823</td>\n",
       "      <td>0.385898</td>\n",
       "      <td>0.007480</td>\n",
       "      <td>100</td>\n",
       "      <td>3</td>\n",
       "      <td>rbf</td>\n",
       "      <td>{'C': 100, 'degree': 3, 'kernel': 'rbf'}</td>\n",
       "      <td>0.764917</td>\n",
       "      <td>0.787922</td>\n",
       "      <td>0.787203</td>\n",
       "      <td>0.767793</td>\n",
       "      <td>0.787050</td>\n",
       "      <td>0.778977</td>\n",
       "      <td>0.010350</td>\n",
       "      <td>1</td>\n",
       "    </tr>\n",
       "    <tr>\n",
       "      <th>34</th>\n",
       "      <td>1.924560</td>\n",
       "      <td>0.196198</td>\n",
       "      <td>0.381693</td>\n",
       "      <td>0.007281</td>\n",
       "      <td>100</td>\n",
       "      <td>6</td>\n",
       "      <td>rbf</td>\n",
       "      <td>{'C': 100, 'degree': 6, 'kernel': 'rbf'}</td>\n",
       "      <td>0.764917</td>\n",
       "      <td>0.787922</td>\n",
       "      <td>0.787203</td>\n",
       "      <td>0.767793</td>\n",
       "      <td>0.787050</td>\n",
       "      <td>0.778977</td>\n",
       "      <td>0.010350</td>\n",
       "      <td>1</td>\n",
       "    </tr>\n",
       "    <tr>\n",
       "      <th>28</th>\n",
       "      <td>1.905164</td>\n",
       "      <td>0.162198</td>\n",
       "      <td>0.379092</td>\n",
       "      <td>0.005014</td>\n",
       "      <td>100</td>\n",
       "      <td>0</td>\n",
       "      <td>rbf</td>\n",
       "      <td>{'C': 100, 'degree': 0, 'kernel': 'rbf'}</td>\n",
       "      <td>0.764917</td>\n",
       "      <td>0.787922</td>\n",
       "      <td>0.787203</td>\n",
       "      <td>0.767793</td>\n",
       "      <td>0.787050</td>\n",
       "      <td>0.778977</td>\n",
       "      <td>0.010350</td>\n",
       "      <td>1</td>\n",
       "    </tr>\n",
       "    <tr>\n",
       "      <th>25</th>\n",
       "      <td>1.392028</td>\n",
       "      <td>0.118756</td>\n",
       "      <td>0.435654</td>\n",
       "      <td>0.021759</td>\n",
       "      <td>10</td>\n",
       "      <td>6</td>\n",
       "      <td>rbf</td>\n",
       "      <td>{'C': 10, 'degree': 6, 'kernel': 'rbf'}</td>\n",
       "      <td>0.761323</td>\n",
       "      <td>0.785047</td>\n",
       "      <td>0.784328</td>\n",
       "      <td>0.764917</td>\n",
       "      <td>0.784173</td>\n",
       "      <td>0.775957</td>\n",
       "      <td>0.010547</td>\n",
       "      <td>4</td>\n",
       "    </tr>\n",
       "    <tr>\n",
       "      <th>22</th>\n",
       "      <td>1.298991</td>\n",
       "      <td>0.025940</td>\n",
       "      <td>0.415321</td>\n",
       "      <td>0.008815</td>\n",
       "      <td>10</td>\n",
       "      <td>3</td>\n",
       "      <td>rbf</td>\n",
       "      <td>{'C': 10, 'degree': 3, 'kernel': 'rbf'}</td>\n",
       "      <td>0.761323</td>\n",
       "      <td>0.785047</td>\n",
       "      <td>0.784328</td>\n",
       "      <td>0.764917</td>\n",
       "      <td>0.784173</td>\n",
       "      <td>0.775957</td>\n",
       "      <td>0.010547</td>\n",
       "      <td>4</td>\n",
       "    </tr>\n",
       "  </tbody>\n",
       "</table>\n",
       "</div>"
      ],
      "text/plain": [
       "    mean_fit_time  std_fit_time  mean_score_time  std_score_time param_C  \\\n",
       "31       1.951129      0.287823         0.385898        0.007480     100   \n",
       "34       1.924560      0.196198         0.381693        0.007281     100   \n",
       "28       1.905164      0.162198         0.379092        0.005014     100   \n",
       "25       1.392028      0.118756         0.435654        0.021759      10   \n",
       "22       1.298991      0.025940         0.415321        0.008815      10   \n",
       "\n",
       "   param_degree param_kernel                                    params  \\\n",
       "31            3          rbf  {'C': 100, 'degree': 3, 'kernel': 'rbf'}   \n",
       "34            6          rbf  {'C': 100, 'degree': 6, 'kernel': 'rbf'}   \n",
       "28            0          rbf  {'C': 100, 'degree': 0, 'kernel': 'rbf'}   \n",
       "25            6          rbf   {'C': 10, 'degree': 6, 'kernel': 'rbf'}   \n",
       "22            3          rbf   {'C': 10, 'degree': 3, 'kernel': 'rbf'}   \n",
       "\n",
       "    split0_test_score  split1_test_score  split2_test_score  \\\n",
       "31           0.764917           0.787922           0.787203   \n",
       "34           0.764917           0.787922           0.787203   \n",
       "28           0.764917           0.787922           0.787203   \n",
       "25           0.761323           0.785047           0.784328   \n",
       "22           0.761323           0.785047           0.784328   \n",
       "\n",
       "    split3_test_score  split4_test_score  mean_test_score  std_test_score  \\\n",
       "31           0.767793           0.787050         0.778977        0.010350   \n",
       "34           0.767793           0.787050         0.778977        0.010350   \n",
       "28           0.767793           0.787050         0.778977        0.010350   \n",
       "25           0.764917           0.784173         0.775957        0.010547   \n",
       "22           0.764917           0.784173         0.775957        0.010547   \n",
       "\n",
       "    rank_test_score  \n",
       "31                1  \n",
       "34                1  \n",
       "28                1  \n",
       "25                4  \n",
       "22                4  "
      ]
     },
     "execution_count": 79,
     "metadata": {},
     "output_type": "execute_result"
    }
   ],
   "source": [
    "gs_results = pd.DataFrame(grid.cv_results_)\n",
    "gs_results.sort_values(by='mean_test_score', ascending=False, inplace=True)\n",
    "gs_results.head()"
   ]
  },
  {
   "cell_type": "code",
   "execution_count": 80,
   "metadata": {},
   "outputs": [
    {
     "data": {
      "text/plain": [
       "<sklearn.metrics._plot.confusion_matrix.ConfusionMatrixDisplay at 0x1aaabdc6ad0>"
      ]
     },
     "execution_count": 80,
     "metadata": {},
     "output_type": "execute_result"
    },
    {
     "data": {
      "image/png": "[encoded data removed]",
      "text/plain": [
       "<Figure size 640x480 with 2 Axes>"
      ]
     },
     "metadata": {},
     "output_type": "display_data"
    }
   ],
   "source": [
    "from sklearn.metrics import ConfusionMatrixDisplay\n",
    "\n",
    "ConfusionMatrixDisplay.from_estimator(grid.best_estimator_, test_x, test_y)"
   ]
  },
  {
   "cell_type": "code",
   "execution_count": 81,
   "metadata": {},
   "outputs": [
    {
     "name": "stdout",
     "output_type": "stream",
     "text": [
      "Fitting 5 folds for each of 36 candidates, totalling 180 fits\n",
      "Training time: 28.037057638168335s\n"
     ]
    }
   ],
   "source": [
    "#using random forest\n",
    "from sklearn.ensemble import RandomForestClassifier\n",
    "\n",
    "param_grid = {'n_estimators': [10, 100, 1000],\n",
    "              'max_depth': [None, 10, 100, 1000],\n",
    "                'max_features': ['auto', 'sqrt', 'log2']}\n",
    "\n",
    "grid = GridSearchCV(RandomForestClassifier(), param_grid, refit=True, verbose=3, n_jobs=-1)\n",
    "\n",
    "start = time.time()\n",
    "grid.fit(train_x, train_y)\n",
    "end = time.time()\n",
    "\n",
    "print(f\"Training time: {end - start}s\")"
   ]
  },
  {
   "cell_type": "code",
   "execution_count": 82,
   "metadata": {},
   "outputs": [
    {
     "name": "stdout",
     "output_type": "stream",
     "text": [
      "Best score: 0.7993972557396212\n"
     ]
    }
   ],
   "source": [
    "best_score = grid.best_score_\n",
    "best_params = grid.best_params_\n",
    "\n",
    "print(f\"Best score: {best_score}\")"
   ]
  },
  {
   "cell_type": "code",
   "execution_count": 83,
   "metadata": {},
   "outputs": [],
   "source": [
    "with open('result.txt', 'a') as f:\n",
    "    f.write(f\"GridSearch icm RandomForestClassifier\\n\")\n",
    "    f.write(f\"Iterations: {iterations}\\n\")\n",
    "    f.write(f\"Best score: {best_score}\\n\")\n",
    "    f.write(f\"Best params: {best_params}\\n\")\n",
    "    f.write(f\"Training time: {end - start}s\\n\\n\")"
   ]
  },
  {
   "cell_type": "code",
   "execution_count": 84,
   "metadata": {},
   "outputs": [
    {
     "data": {
      "text/plain": [
       "<sklearn.metrics._plot.confusion_matrix.ConfusionMatrixDisplay at 0x1aaab7353d0>"
      ]
     },
     "execution_count": 84,
     "metadata": {},
     "output_type": "execute_result"
    },
    {
     "data": {
      "image/png": "[encoded data removed]",
      "text/plain": [
       "<Figure size 640x480 with 2 Axes>"
      ]
     },
     "metadata": {},
     "output_type": "display_data"
    }
   ],
   "source": [
    "gs_results = pd.DataFrame(grid.cv_results_)\n",
    "gs_results.sort_values(by='mean_test_score', ascending=False, inplace=True)\n",
    "gs_results.head()\n",
    "\n",
    "ConfusionMatrixDisplay.from_estimator(grid.best_estimator_, test_x, test_y)"
   ]
  },
  {
   "cell_type": "code",
   "execution_count": 85,
   "metadata": {},
   "outputs": [
    {
     "name": "stdout",
     "output_type": "stream",
     "text": [
      "Fitting 5 folds for each of 10 candidates, totalling 50 fits\n"
     ]
    },
    {
     "name": "stderr",
     "output_type": "stream",
     "text": [
      "c:\\Users\\ktmle\\AppData\\Local\\Programs\\Python\\Python311\\Lib\\site-packages\\sklearn\\ensemble\\_forest.py:424: FutureWarning: `max_features='auto'` has been deprecated in 1.1 and will be removed in 1.3. To keep the past behaviour, explicitly set `max_features='sqrt'` or remove this parameter as it is also the default value for RandomForestClassifiers and ExtraTreesClassifiers.\n",
      "  warn(\n"
     ]
    },
    {
     "name": "stdout",
     "output_type": "stream",
     "text": [
      "Training time: 7.552610874176025s\n",
      "Best score: 0.7982467972422925\n"
     ]
    },
    {
     "data": {
      "text/plain": [
       "<sklearn.metrics._plot.confusion_matrix.ConfusionMatrixDisplay at 0x1aaabd18090>"
      ]
     },
     "execution_count": 85,
     "metadata": {},
     "output_type": "execute_result"
    },
    {
     "data": {
      "image/png": "[encoded data removed]",
      "text/plain": [
       "<Figure size 640x480 with 2 Axes>"
      ]
     },
     "metadata": {},
     "output_type": "display_data"
    }
   ],
   "source": [
    "#RandomSearchCV icm RandomForest\n",
    "from sklearn.model_selection import RandomizedSearchCV\n",
    "\n",
    "param_grid = {'n_estimators': [10, 100, 1000],\n",
    "                'max_depth': [None, 10, 100, 1000],\n",
    "                    'max_features': ['auto', 'sqrt', 'log2']}\n",
    "\n",
    "grid = RandomizedSearchCV(RandomForestClassifier(), param_grid, refit=True, verbose=3, n_jobs=-1, n_iter=iterations)\n",
    "\n",
    "start = time.time()\n",
    "grid.fit(train_x, train_y)\n",
    "end = time.time()\n",
    "\n",
    "print(f\"Training time: {end - start}s\")\n",
    "\n",
    "best_score = grid.best_score_\n",
    "best_params = grid.best_params_\n",
    "\n",
    "print(f\"Best score: {best_score}\")\n",
    "\n",
    "with open('result.txt', 'a') as f:\n",
    "    f.write(f\"RandomizedSearchCV icm RandomForest\\n\")\n",
    "    f.write(f\"Iterations: {iterations}\\n\")\n",
    "    f.write(f\"Best score: {best_score}\\n\")\n",
    "    f.write(f\"Best params: {best_params}\\n\")\n",
    "    f.write(f\"Training time: {end - start}s\\n\\n\")\n",
    "\n",
    "gs_results = pd.DataFrame(grid.cv_results_)\n",
    "gs_results.sort_values(by='mean_test_score', ascending=False, inplace=True)\n",
    "gs_results.head()\n",
    "\n",
    "ConfusionMatrixDisplay.from_estimator(grid.best_estimator_, test_x, test_y)"
   ]
  },
  {
   "cell_type": "code",
   "execution_count": 86,
   "metadata": {},
   "outputs": [
    {
     "name": "stdout",
     "output_type": "stream",
     "text": [
      "Fitting 5 folds for each of 10 candidates, totalling 50 fits\n",
      "Training time: 20.044560432434082s\n",
      "Best score: 0.7759574655157254\n"
     ]
    },
    {
     "data": {
      "text/plain": [
       "<sklearn.metrics._plot.confusion_matrix.ConfusionMatrixDisplay at 0x1aaabd3a990>"
      ]
     },
     "execution_count": 86,
     "metadata": {},
     "output_type": "execute_result"
    },
    {
     "data": {
      "image/png": "[encoded data removed]",
      "text/plain": [
       "<Figure size 640x480 with 2 Axes>"
      ]
     },
     "metadata": {},
     "output_type": "display_data"
    }
   ],
   "source": [
    "param_grid = {'C': [0.1, 1, 10, 100],\n",
    "                'degree': [0, 3, 6],\n",
    "                'kernel':['poly', 'rbf', 'sigmoid']}\n",
    "\n",
    "grid = RandomizedSearchCV(SVC(), param_grid, refit=True, verbose=3, n_jobs=-1, n_iter=iterations)\n",
    "\n",
    "start = time.time()\n",
    "grid.fit(train_x, train_y)\n",
    "end = time.time()\n",
    "\n",
    "print(f\"Training time: {end - start}s\")\n",
    "\n",
    "best_score = grid.best_score_\n",
    "best_params = grid.best_params_\n",
    "\n",
    "print(f\"Best score: {best_score}\")\n",
    "\n",
    "with open('result.txt', 'a') as f:\n",
    "    f.write(f\"RandomizedSearchCV icm SVC\\n\")\n",
    "    f.write(f\"Iterations: {iterations}\\n\")\n",
    "    f.write(f\"Best score: {best_score}\\n\")\n",
    "    f.write(f\"Best params: {best_params}\\n\")\n",
    "    f.write(f\"Training time: {end - start}s\\n\\n\")\n",
    "\n",
    "gs_results = pd.DataFrame(grid.cv_results_)\n",
    "gs_results.sort_values(by='mean_test_score', ascending=False, inplace=True)\n",
    "gs_results.head()\n",
    "\n",
    "ConfusionMatrixDisplay.from_estimator(grid.best_estimator_, test_x, test_y)"
   ]
  },
  {
   "cell_type": "code",
   "execution_count": 87,
   "metadata": {},
   "outputs": [
    {
     "name": "stdout",
     "output_type": "stream",
     "text": [
      "n_iterations: 6\n",
      "n_required_iterations: 6\n",
      "n_possible_iterations: 6\n",
      "min_resources_: 217\n",
      "max_resources_: 6954\n",
      "aggressive_elimination: False\n",
      "factor: 2\n",
      "----------\n",
      "iter: 0\n",
      "n_candidates: 36\n",
      "n_resources: 217\n",
      "Fitting 5 folds for each of 36 candidates, totalling 180 fits\n",
      "----------\n",
      "iter: 1\n",
      "n_candidates: 18\n",
      "n_resources: 434\n",
      "Fitting 5 folds for each of 18 candidates, totalling 90 fits\n",
      "----------\n",
      "iter: 2\n",
      "n_candidates: 9\n",
      "n_resources: 868\n",
      "Fitting 5 folds for each of 9 candidates, totalling 45 fits\n",
      "----------\n",
      "iter: 3\n",
      "n_candidates: 5\n",
      "n_resources: 1736\n",
      "Fitting 5 folds for each of 5 candidates, totalling 25 fits\n",
      "----------\n",
      "iter: 4\n",
      "n_candidates: 3\n",
      "n_resources: 3472\n",
      "Fitting 5 folds for each of 3 candidates, totalling 15 fits\n",
      "----------\n",
      "iter: 5\n",
      "n_candidates: 2\n",
      "n_resources: 6944\n",
      "Fitting 5 folds for each of 2 candidates, totalling 10 fits\n",
      "Training time: 17.732325792312622s\n",
      "Best score: 0.7971181556195965\n"
     ]
    },
    {
     "data": {
      "text/plain": [
       "<sklearn.metrics._plot.confusion_matrix.ConfusionMatrixDisplay at 0x1aaabee3f10>"
      ]
     },
     "execution_count": 87,
     "metadata": {},
     "output_type": "execute_result"
    },
    {
     "data": {
      "image/png": "[encoded data removed]",
      "text/plain": [
       "<Figure size 640x480 with 2 Axes>"
      ]
     },
     "metadata": {},
     "output_type": "display_data"
    }
   ],
   "source": [
    "from sklearn.model_selection import HalvingGridSearchCV\n",
    "\n",
    "param_grid = {'n_estimators': [10, 100, 1000],\n",
    "                'max_depth': [None, 10, 100, 1000],\n",
    "                    'max_features': ['auto', 'sqrt', 'log2']}\n",
    "\n",
    "grid = HalvingGridSearchCV(RandomForestClassifier(), param_grid, refit=True, verbose=3, n_jobs=-1, factor=2)\n",
    "\n",
    "start = time.time()\n",
    "\n",
    "grid.fit(train_x, train_y)\n",
    "\n",
    "end = time.time()\n",
    "\n",
    "print(f\"Training time: {end - start}s\")\n",
    "\n",
    "best_score = grid.best_score_\n",
    "best_params = grid.best_params_\n",
    "\n",
    "print(f\"Best score: {best_score}\")\n",
    "\n",
    "with open('result.txt', 'a') as f:\n",
    "    f.write(f\"HalvingGridSearchCV icm RandomForest\\n\")\n",
    "    f.write(f\"Iterations: {iterations}\\n\")\n",
    "    f.write(f\"Best score: {best_score}\\n\")\n",
    "    f.write(f\"Best params: {best_params}\\n\")\n",
    "    f.write(f\"Training time: {end - start}s\\n\\n\")\n",
    "\n",
    "gs_results = pd.DataFrame(grid.cv_results_)\n",
    "gs_results.sort_values(by='mean_test_score', ascending=False, inplace=True)\n",
    "gs_results.head()\n",
    "\n",
    "ConfusionMatrixDisplay.from_estimator(grid.best_estimator_, test_x, test_y)"
   ]
  },
  {
   "cell_type": "code",
   "execution_count": 89,
   "metadata": {},
   "outputs": [
    {
     "name": "stdout",
     "output_type": "stream",
     "text": [
      "n_iterations: 6\n",
      "n_required_iterations: 6\n",
      "n_possible_iterations: 9\n",
      "min_resources_: 20\n",
      "max_resources_: 6954\n",
      "aggressive_elimination: False\n",
      "factor: 2\n",
      "----------\n",
      "iter: 0\n",
      "n_candidates: 36\n",
      "n_resources: 20\n",
      "Fitting 5 folds for each of 36 candidates, totalling 180 fits\n"
     ]
    },
    {
     "name": "stderr",
     "output_type": "stream",
     "text": [
      "c:\\Users\\ktmle\\AppData\\Local\\Programs\\Python\\Python311\\Lib\\site-packages\\sklearn\\model_selection\\_search.py:305: UserWarning: The total space of parameters 36 is smaller than n_iter=347. Running 36 iterations. For exhaustive searches, use GridSearchCV.\n",
      "  warnings.warn(\n"
     ]
    },
    {
     "name": "stdout",
     "output_type": "stream",
     "text": [
      "----------\n",
      "iter: 1\n",
      "n_candidates: 18\n",
      "n_resources: 40\n",
      "Fitting 5 folds for each of 18 candidates, totalling 90 fits\n",
      "----------\n",
      "iter: 2\n",
      "n_candidates: 9\n",
      "n_resources: 80\n",
      "Fitting 5 folds for each of 9 candidates, totalling 45 fits\n",
      "----------\n",
      "iter: 3\n",
      "n_candidates: 5\n",
      "n_resources: 160\n",
      "Fitting 5 folds for each of 5 candidates, totalling 25 fits\n",
      "----------\n",
      "iter: 4\n",
      "n_candidates: 3\n",
      "n_resources: 320\n",
      "Fitting 5 folds for each of 3 candidates, totalling 15 fits\n",
      "----------\n",
      "iter: 5\n",
      "n_candidates: 2\n",
      "n_resources: 640\n",
      "Fitting 5 folds for each of 2 candidates, totalling 10 fits\n",
      "Training time: 8.660429954528809s\n",
      "Best score: 0.7637303149606299\n"
     ]
    },
    {
     "data": {
      "text/plain": [
       "<sklearn.metrics._plot.confusion_matrix.ConfusionMatrixDisplay at 0x1aaabdc8ad0>"
      ]
     },
     "execution_count": 89,
     "metadata": {},
     "output_type": "execute_result"
    },
    {
     "data": {
      "image/png": "[encoded data removed]",
      "text/plain": [
       "<Figure size 640x480 with 2 Axes>"
      ]
     },
     "metadata": {},
     "output_type": "display_data"
    }
   ],
   "source": [
    "from sklearn.model_selection import HalvingRandomSearchCV\n",
    "\n",
    "param_grid = {'n_estimators': [10, 100, 1000],\n",
    "                'max_depth': [None, 10, 100, 1000],\n",
    "                    'max_features': ['auto', 'sqrt', 'log2']}\n",
    "\n",
    "grid = HalvingRandomSearchCV(RandomForestClassifier(), param_grid, refit=True, verbose=3, n_jobs=-1, factor=2)\n",
    "\n",
    "start = time.time()\n",
    "\n",
    "grid.fit(train_x, train_y)\n",
    "\n",
    "end = time.time()\n",
    "\n",
    "print(f\"Training time: {end - start}s\")\n",
    "\n",
    "best_score = grid.best_score_\n",
    "best_params = grid.best_params_\n",
    "\n",
    "print(f\"Best score: {best_score}\")\n",
    "\n",
    "with open('result.txt', 'a') as f:\n",
    "    f.write(f\"HalvingRandomSearchCV icm RandomForest\\n\")\n",
    "    f.write(f\"Iterations: {iterations}\\n\")\n",
    "    f.write(f\"Best score: {best_score}\\n\")\n",
    "    f.write(f\"Best params: {best_params}\\n\")\n",
    "    f.write(f\"Training time: {end - start}s\\n\\n\")\n",
    "\n",
    "gs_results = pd.DataFrame(grid.cv_results_)\n",
    "gs_results.sort_values(by='mean_test_score', ascending=False, inplace=True)\n",
    "gs_results.head()\n",
    "\n",
    "ConfusionMatrixDisplay.from_estimator(grid.best_estimator_, test_x, test_y)"
   ]
  }
 ],
 "metadata": {
  "kernelspec": {
   "display_name": "base",
   "language": "python",
   "name": "python3"
  },
  "language_info": {
   "codemirror_mode": {
    "name": "ipython",
    "version": 3
   },
   "file_extension": ".py",
   "mimetype": "text/x-python",
   "name": "python",
   "nbconvert_exporter": "python",
   "pygments_lexer": "ipython3",
   "version": "3.11.3"
  }
 },
 "nbformat": 4,
 "nbformat_minor": 2
}
