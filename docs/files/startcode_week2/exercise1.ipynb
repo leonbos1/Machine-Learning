{
 "cells": [
  {
   "cell_type": "code",
   "execution_count": 20,
   "metadata": {},
   "outputs": [
    {
     "name": "stdout",
     "output_type": "stream",
     "text": [
      "[0, 0, 0, 0, 0, 0, 0, 0, 0, 0, 0, 0, 0, 0, 0, 0, 0, 0, 0, 0, 0, 0, 0, 0, 0, 0, 0, 0, 0, 0, 0, 0, 0, 0, 0, 0, 0, 0, 0, 0, 0, 0, 0, 0, 0, 0, 0, 0, 0, 0, 0, 0, 0, 0, 0, 0, 0, 0, 0, 0, 0, 0, 0, 0, 0, 0, 0, 0, 0, 0, 0, 0, 0, 0, 0, 0, 0, 0, 0, 0, 0, 0, 0, 0, 0, 0, 0, 0, 0, 0, 0, 0, 0, 0, 0, 0, 0, 0, 0, 0, 1, 1, 1, 1, 1, 1, 1, 1, 1, 1, 1, 1, 1, 1, 1, 1, 1, 1, 1, 1, 1, 1, 1, 1, 1, 1, 1, 1, 1, 1, 1, 1, 1, 1, 1, 1, 1, 1, 1, 1, 1, 1, 1, 1, 1, 1, 1, 1, 1, 1]\n"
     ]
    }
   ],
   "source": [
    "import sklearn.datasets\n",
    "import numpy as np\n",
    "\n",
    "iris = sklearn.datasets.load_iris()\n",
    "\n",
    "X = iris.data\n",
    "y = iris.target\n",
    "\n",
    "y = [0 if i < 2 else 1 for i in y]\n",
    "\n",
    "print(y)"
   ]
  },
  {
   "cell_type": "code",
   "execution_count": 77,
   "metadata": {},
   "outputs": [],
   "source": [
    "def sigmoid(x):\n",
    "    return 1 / (1 + np.exp(-x))"
   ]
  },
  {
   "cell_type": "code",
   "execution_count": 85,
   "metadata": {},
   "outputs": [
    {
     "name": "stdout",
     "output_type": "stream",
     "text": [
      "[[1.]\n",
      " [1.]\n",
      " [1.]\n",
      " [1.]]\n"
     ]
    }
   ],
   "source": [
    "\n",
    "theta = np.ones((X.shape[1], 1))\n",
    "\n",
    "print(theta)"
   ]
  },
  {
   "cell_type": "code",
   "execution_count": 88,
   "metadata": {},
   "outputs": [],
   "source": [
    "def gradient_descent(X, y, theta, alpha, num_iters):\n",
    "\n",
    "    m,n = X.shape\n",
    "    costs = []\n",
    "\n",
    "    for i in range(1, num_iters):\n",
    "        z = np.dot(X, theta)\n",
    "\n",
    "        h = sigmoid(z)\n",
    "\n",
    "        error = h - y\n",
    "\n",
    "        gradient = np.dot(X.T, error)\n",
    "\n",
    "        theta -= (alpha / m) * gradient \n",
    "        \n",
    "        cost = (-1 / m) * np.sum(y * np.log(h) + (1 - y) * np.log(1 - h))\n",
    "\n",
    "        costs.append(cost)\n",
    "\n",
    "    return theta, costs"
   ]
  },
  {
   "cell_type": "code",
   "execution_count": 89,
   "metadata": {},
   "outputs": [
    {
     "ename": "ValueError",
     "evalue": "non-broadcastable output operand with shape (4,1) doesn't match the broadcast shape (4,150)",
     "output_type": "error",
     "traceback": [
      "\u001b[1;31m---------------------------------------------------------------------------\u001b[0m",
      "\u001b[1;31mValueError\u001b[0m                                Traceback (most recent call last)",
      "\u001b[1;32mc:\\Users\\ktmle\\OneDrive\\Documenten\\GitHub\\Machine-Learning\\docs\\files\\startcode_week2\\exercise1.ipynb Cell 5\u001b[0m line \u001b[0;36m4\n\u001b[0;32m      <a href='vscode-notebook-cell:/c%3A/Users/ktmle/OneDrive/Documenten/GitHub/Machine-Learning/docs/files/startcode_week2/exercise1.ipynb#W5sZmlsZQ%3D%3D?line=0'>1</a>\u001b[0m alpha \u001b[39m=\u001b[39m \u001b[39m0.01\u001b[39m\n\u001b[0;32m      <a href='vscode-notebook-cell:/c%3A/Users/ktmle/OneDrive/Documenten/GitHub/Machine-Learning/docs/files/startcode_week2/exercise1.ipynb#W5sZmlsZQ%3D%3D?line=1'>2</a>\u001b[0m num_iters \u001b[39m=\u001b[39m \u001b[39m1500\u001b[39m\n\u001b[1;32m----> <a href='vscode-notebook-cell:/c%3A/Users/ktmle/OneDrive/Documenten/GitHub/Machine-Learning/docs/files/startcode_week2/exercise1.ipynb#W5sZmlsZQ%3D%3D?line=3'>4</a>\u001b[0m costs \u001b[39m=\u001b[39m gradient_descent(X, y, theta, alpha, num_iters)[\u001b[39m1\u001b[39m]\n\u001b[0;32m      <a href='vscode-notebook-cell:/c%3A/Users/ktmle/OneDrive/Documenten/GitHub/Machine-Learning/docs/files/startcode_week2/exercise1.ipynb#W5sZmlsZQ%3D%3D?line=5'>6</a>\u001b[0m \u001b[39mprint\u001b[39m(costs)\n",
      "\u001b[1;32mc:\\Users\\ktmle\\OneDrive\\Documenten\\GitHub\\Machine-Learning\\docs\\files\\startcode_week2\\exercise1.ipynb Cell 5\u001b[0m line \u001b[0;36m1\n\u001b[0;32m     <a href='vscode-notebook-cell:/c%3A/Users/ktmle/OneDrive/Documenten/GitHub/Machine-Learning/docs/files/startcode_week2/exercise1.ipynb#W5sZmlsZQ%3D%3D?line=10'>11</a>\u001b[0m error \u001b[39m=\u001b[39m h \u001b[39m-\u001b[39m y\n\u001b[0;32m     <a href='vscode-notebook-cell:/c%3A/Users/ktmle/OneDrive/Documenten/GitHub/Machine-Learning/docs/files/startcode_week2/exercise1.ipynb#W5sZmlsZQ%3D%3D?line=12'>13</a>\u001b[0m gradient \u001b[39m=\u001b[39m np\u001b[39m.\u001b[39mdot(X\u001b[39m.\u001b[39mT, error)\n\u001b[1;32m---> <a href='vscode-notebook-cell:/c%3A/Users/ktmle/OneDrive/Documenten/GitHub/Machine-Learning/docs/files/startcode_week2/exercise1.ipynb#W5sZmlsZQ%3D%3D?line=14'>15</a>\u001b[0m theta \u001b[39m-\u001b[39m\u001b[39m=\u001b[39m (alpha \u001b[39m/\u001b[39m m) \u001b[39m*\u001b[39m gradient \n\u001b[0;32m     <a href='vscode-notebook-cell:/c%3A/Users/ktmle/OneDrive/Documenten/GitHub/Machine-Learning/docs/files/startcode_week2/exercise1.ipynb#W5sZmlsZQ%3D%3D?line=16'>17</a>\u001b[0m cost \u001b[39m=\u001b[39m (\u001b[39m-\u001b[39m\u001b[39m1\u001b[39m \u001b[39m/\u001b[39m m) \u001b[39m*\u001b[39m np\u001b[39m.\u001b[39msum(y \u001b[39m*\u001b[39m np\u001b[39m.\u001b[39mlog(h) \u001b[39m+\u001b[39m (\u001b[39m1\u001b[39m \u001b[39m-\u001b[39m y) \u001b[39m*\u001b[39m np\u001b[39m.\u001b[39mlog(\u001b[39m1\u001b[39m \u001b[39m-\u001b[39m h))\n\u001b[0;32m     <a href='vscode-notebook-cell:/c%3A/Users/ktmle/OneDrive/Documenten/GitHub/Machine-Learning/docs/files/startcode_week2/exercise1.ipynb#W5sZmlsZQ%3D%3D?line=18'>19</a>\u001b[0m costs\u001b[39m.\u001b[39mappend(cost)\n",
      "\u001b[1;31mValueError\u001b[0m: non-broadcastable output operand with shape (4,1) doesn't match the broadcast shape (4,150)"
     ]
    }
   ],
   "source": [
    "alpha = 0.01\n",
    "num_iters = 1500\n",
    "\n",
    "costs = gradient_descent(X, y, theta, alpha, num_iters)[1]\n",
    "\n",
    "print(costs)"
   ]
  }
 ],
 "metadata": {
  "kernelspec": {
   "display_name": "base",
   "language": "python",
   "name": "python3"
  },
  "language_info": {
   "codemirror_mode": {
    "name": "ipython",
    "version": 3
   },
   "file_extension": ".py",
   "mimetype": "text/x-python",
   "name": "python",
   "nbconvert_exporter": "python",
   "pygments_lexer": "ipython3",
   "version": "3.8.3"
  },
  "orig_nbformat": 4
 },
 "nbformat": 4,
 "nbformat_minor": 2
}
